{
 "cells": [
  {
   "cell_type": "code",
   "execution_count": 2,
   "metadata": {
    "collapsed": true
   },
   "outputs": [],
   "source": [
    "import pandas as pd\n",
    "import json\n",
    "from sqlalchemy import create_engine"
   ]
  },
  {
   "cell_type": "code",
   "execution_count": 3,
   "metadata": {
    "collapsed": false
   },
   "outputs": [
    {
     "name": "stdout",
     "output_type": "stream",
     "text": [
      "Reading trip_201606...\n",
      "DONE...\n",
      "Reading trip_201605...\n",
      "DONE...\n",
      "Reading trip_201504...\n",
      "DONE...\n"
     ]
    }
   ],
   "source": [
    "# Read the data into pandas\n",
    "print 'Reading trip_201606...'\n",
    "trip_201606 = pd.read_csv('/Users/isaacmoore/Desktop/group-lab/201606-citibike-tripdata.csv')\n",
    "print 'DONE...'\n",
    "print 'Reading trip_201605...'\n",
    "trip_201605 = pd.read_csv('/Users/isaacmoore/Desktop/group-lab/201605-citibike-tripdata.csv')\n",
    "print 'DONE...'\n",
    "print 'Reading trip_201504...'\n",
    "trip_201504 = pd.read_csv('/Users/isaacmoore/Desktop/group-lab/201604-citibike-tripdata.csv')\n",
    "print 'DONE...'"
   ]
  },
  {
   "cell_type": "code",
   "execution_count": 4,
   "metadata": {
    "collapsed": false
   },
   "outputs": [
    {
     "name": "stdout",
     "output_type": "stream",
     "text": [
      "(1460318, 15)\n",
      "(1212280, 15)\n",
      "(1013149, 15)\n"
     ]
    }
   ],
   "source": [
    "print trip_201606.shape\n",
    "print trip_201605.shape\n",
    "print trip_201504.shape"
   ]
  },
  {
   "cell_type": "code",
   "execution_count": 5,
   "metadata": {
    "collapsed": false
   },
   "outputs": [
    {
     "data": {
      "text/html": [
       "<div>\n",
       "<table border=\"1\" class=\"dataframe\">\n",
       "  <thead>\n",
       "    <tr style=\"text-align: right;\">\n",
       "      <th></th>\n",
       "      <th>tripduration</th>\n",
       "      <th>starttime</th>\n",
       "      <th>stoptime</th>\n",
       "      <th>start station id</th>\n",
       "      <th>start station name</th>\n",
       "      <th>start station latitude</th>\n",
       "      <th>start station longitude</th>\n",
       "      <th>end station id</th>\n",
       "      <th>end station name</th>\n",
       "      <th>end station latitude</th>\n",
       "      <th>end station longitude</th>\n",
       "      <th>bikeid</th>\n",
       "      <th>usertype</th>\n",
       "      <th>birth year</th>\n",
       "      <th>gender</th>\n",
       "    </tr>\n",
       "  </thead>\n",
       "  <tbody>\n",
       "    <tr>\n",
       "      <th>0</th>\n",
       "      <td>1470</td>\n",
       "      <td>6/1/2016 00:00:18</td>\n",
       "      <td>6/1/2016 00:24:48</td>\n",
       "      <td>380</td>\n",
       "      <td>W 4 St &amp; 7 Ave S</td>\n",
       "      <td>40.734011</td>\n",
       "      <td>-74.002939</td>\n",
       "      <td>3236</td>\n",
       "      <td>W 42 St &amp; Dyer Ave</td>\n",
       "      <td>40.758985</td>\n",
       "      <td>-73.9938</td>\n",
       "      <td>19859</td>\n",
       "      <td>Subscriber</td>\n",
       "      <td>1972</td>\n",
       "      <td>1</td>\n",
       "    </tr>\n",
       "  </tbody>\n",
       "</table>\n",
       "</div>"
      ],
      "text/plain": [
       "   tripduration          starttime           stoptime  start station id  \\\n",
       "0          1470  6/1/2016 00:00:18  6/1/2016 00:24:48               380   \n",
       "\n",
       "  start station name  start station latitude  start station longitude  \\\n",
       "0   W 4 St & 7 Ave S               40.734011               -74.002939   \n",
       "\n",
       "   end station id    end station name  end station latitude  \\\n",
       "0            3236  W 42 St & Dyer Ave             40.758985   \n",
       "\n",
       "   end station longitude  bikeid    usertype  birth year  gender  \n",
       "0               -73.9938   19859  Subscriber        1972       1  "
      ]
     },
     "execution_count": 5,
     "metadata": {},
     "output_type": "execute_result"
    }
   ],
   "source": [
    "trip_201606.head(1)"
   ]
  },
  {
   "cell_type": "code",
   "execution_count": 6,
   "metadata": {
    "collapsed": true
   },
   "outputs": [],
   "source": [
    "# Read the credentials into notebook env\n",
    "with open('aws_cred.json') as data_file:\n",
    "    aws = json.load(data_file)"
   ]
  },
  {
   "cell_type": "code",
   "execution_count": 7,
   "metadata": {
    "collapsed": false
   },
   "outputs": [],
   "source": [
    "# Create an engine for AWS Postgres Database \n",
    "local_engine = create_engine('postgres://postgres@localhost:5432/nybike')\n",
    "remote_engine = create_engine('postgres://'+aws['user']+':'+aws['admin_pass']+'@'+aws['endpoint']+'/'+aws['db'])"
   ]
  },
  {
   "cell_type": "code",
   "execution_count": 10,
   "metadata": {
    "collapsed": false
   },
   "outputs": [
    {
     "name": "stdout",
     "output_type": "stream",
     "text": [
      "Sending trip_201606 to local database...\n",
      "DONE...\n",
      "Sending trip_201605 to local database...\n",
      "DONE...\n",
      "Sending trip_201504 to local database...\n",
      "DONE...\n"
     ]
    }
   ],
   "source": [
    "# Send data to local Postgres Database then create a backup using pgAdmin3\n",
    "print 'Sending trip_201606 to local database...'\n",
    "trip_201606.to_sql('trip_201606', con=local_engine, if_exists='append')\n",
    "print 'DONE...'\n",
    "print 'Sending trip_201605 to local database...'\n",
    "trip_201605.to_sql('trip_201605', con=local_engine,if_exists='append')\n",
    "print 'DONE...'\n",
    "print 'Sending trip_201504 to local database...'\n",
    "trip_201504.to_sql('trip_201504', con=local_engine,if_exists='append')\n",
    "print 'DONE...'"
   ]
  },
  {
   "cell_type": "raw",
   "metadata": {
    "collapsed": false
   },
   "source": [
    "# Upload data to AWS Postsgres Database\n",
    "print 'Uploading trip_201606...'\n",
    "trip_201606.to_sql('trip_201606', con=remote_engine)\n",
    "print 'DONE...'\n",
    "print 'Uploadincg trip_201605...'\n",
    "trip_201605.to_sql('trip_201605', con=remote_engine)\n",
    "print 'DONE...'\n",
    "print 'Uploading trip_201504...'\n",
    "trip_201504.to_sql('trip_201504', con=remote_engine)\n",
    "print 'DONE...'"
   ]
  },
  {
   "cell_type": "code",
   "execution_count": null,
   "metadata": {
    "collapsed": true
   },
   "outputs": [],
   "source": []
  }
 ],
 "metadata": {
  "kernelspec": {
   "display_name": "Python 2",
   "language": "python",
   "name": "python2"
  },
  "language_info": {
   "codemirror_mode": {
    "name": "ipython",
    "version": 2
   },
   "file_extension": ".py",
   "mimetype": "text/x-python",
   "name": "python",
   "nbconvert_exporter": "python",
   "pygments_lexer": "ipython2",
   "version": "2.7.12"
  }
 },
 "nbformat": 4,
 "nbformat_minor": 0
}
